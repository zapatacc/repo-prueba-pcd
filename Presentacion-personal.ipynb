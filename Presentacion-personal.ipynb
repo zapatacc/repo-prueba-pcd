{
 "cells": [
  {
   "cell_type": "markdown",
   "id": "5cf7a2a9",
   "metadata": {},
   "source": [
    "**Nombre:** Cristian Camilo Zapata Zuluaga\n",
    "\n",
    "**Edad:** 30\n",
    "\n",
    "*Lugar de nacimiento:* Antioquia - Colombia"
   ]
  },
  {
   "cell_type": "code",
   "execution_count": 6,
   "id": "64b934fe",
   "metadata": {},
   "outputs": [],
   "source": [
    "def add_names(first_name, last_name):\n",
    "    return f\"Mi nombre completo es: {first_name + ' ' + last_name}\""
   ]
  },
  {
   "cell_type": "code",
   "execution_count": 7,
   "id": "aee622e9",
   "metadata": {},
   "outputs": [
    {
     "name": "stdout",
     "output_type": "stream",
     "text": [
      "Mi nombre completo es: Cristian Zapata\n"
     ]
    }
   ],
   "source": [
    "first_name = \"Cristian\"\n",
    "last_name = \"Zapata\"\n",
    "\n",
    "print(add_names(first_name, last_name))"
   ]
  }
 ],
 "metadata": {
  "kernelspec": {
   "display_name": "Python 3 (ipykernel)",
   "language": "python",
   "name": "python3"
  },
  "language_info": {
   "codemirror_mode": {
    "name": "ipython",
    "version": 3
   },
   "file_extension": ".py",
   "mimetype": "text/x-python",
   "name": "python",
   "nbconvert_exporter": "python",
   "pygments_lexer": "ipython3",
   "version": "3.9.12"
  }
 },
 "nbformat": 4,
 "nbformat_minor": 5
}
